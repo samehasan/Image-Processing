{
 "cells": [
  {
   "cell_type": "markdown",
   "id": "2b1660d7",
   "metadata": {},
   "source": [
    "# hipass filter"
   ]
  },
  {
   "cell_type": "code",
   "execution_count": 2,
   "id": "e5d13c31",
   "metadata": {},
   "outputs": [
    {
     "ename": "SyntaxError",
     "evalue": "cannot assign to function call (Temp/ipykernel_7712/759240719.py, line 5)",
     "output_type": "error",
     "traceback": [
      "\u001b[1;36m  File \u001b[1;32m\"C:\\Users\\USER\\AppData\\Local\\Temp/ipykernel_7712/759240719.py\"\u001b[1;36m, line \u001b[1;32m5\u001b[0m\n\u001b[1;33m    im = np.imread('blue.png'), axis=2) # assuming an RGB image\u001b[0m\n\u001b[1;37m         ^\u001b[0m\n\u001b[1;31mSyntaxError\u001b[0m\u001b[1;31m:\u001b[0m cannot assign to function call\n"
     ]
    }
   ],
   "source": [
    "from skimage.io import imread\n",
    "import matplotlib.pyplot as plt\n",
    "import scipy.fftpack as fp\n",
    "\n",
    "im = np.imread('blue.png'), axis=2) # assuming an RGB image\n",
    "plt.figure(figsize=(10,10))\n",
    "plt.imshow(im, cmap=plt.cm.gray)\n",
    "plt.axis('off')\n",
    "plt.show()"
   ]
  },
  {
   "cell_type": "code",
   "execution_count": null,
   "id": "a443896b",
   "metadata": {},
   "outputs": [],
   "source": []
  }
 ],
 "metadata": {
  "kernelspec": {
   "display_name": "Python 3 (ipykernel)",
   "language": "python",
   "name": "python3"
  },
  "language_info": {
   "codemirror_mode": {
    "name": "ipython",
    "version": 3
   },
   "file_extension": ".py",
   "mimetype": "text/x-python",
   "name": "python",
   "nbconvert_exporter": "python",
   "pygments_lexer": "ipython3",
   "version": "3.9.7"
  }
 },
 "nbformat": 4,
 "nbformat_minor": 5
}
